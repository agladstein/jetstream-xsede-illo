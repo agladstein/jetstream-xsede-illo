{
 "cells": [
  {
   "cell_type": "markdown",
   "metadata": {
    "nbpresent": {
     "id": "9dc95344-5b87-4396-8578-6f2d8c038f4a"
    },
    "slideshow": {
     "slide_type": "slide"
    }
   },
   "source": [
    "# Jetstream/XSEDE illo\n",
    "\n",
    "#### April 7, 2017\n",
    "\n",
    "Lisa Cohen"
   ]
  },
  {
   "cell_type": "markdown",
   "metadata": {
    "nbpresent": {
     "id": "aba77c06-dbf1-4486-98fc-24c865a1a5e6"
    },
    "slideshow": {
     "slide_type": "slide"
    }
   },
   "source": [
    "* XSEDE = Extreme Science and Engineering Discovery Environment\n",
    "Create account: https://portal.xsede.org/web/xup/my-xsede#/guest\n",
    "\n",
    "* Jetstream login: https://use.jetstream-cloud.org/\n",
    "\n",
    "![](xsede_user_portal.png)"
   ]
  },
  {
   "cell_type": "markdown",
   "metadata": {
    "nbpresent": {
     "id": "8706c599-e18b-4837-8a86-46a45cb80578"
    },
    "slideshow": {
     "slide_type": "slide"
    }
   },
   "source": [
    "![](images.png)"
   ]
  },
  {
   "cell_type": "markdown",
   "metadata": {
    "nbpresent": {
     "id": "6fe8625a-3fd8-4d2a-9221-1774278f8f36"
    },
    "slideshow": {
     "slide_type": "slide"
    }
   },
   "source": [
    "![](login.png)"
   ]
  },
  {
   "cell_type": "markdown",
   "metadata": {
    "nbpresent": {
     "id": "afcade05-8011-415c-ac63-25223da7c64a"
    },
    "slideshow": {
     "slide_type": "slide"
    }
   },
   "source": [
    "![](xsede_login.png)"
   ]
  },
  {
   "cell_type": "markdown",
   "metadata": {
    "nbpresent": {
     "id": "3f6088f3-3691-41c6-b2c6-e784e55e2136"
    },
    "slideshow": {
     "slide_type": "slide"
    }
   },
   "source": [
    "![](jetstream_home.png)"
   ]
  },
  {
   "cell_type": "markdown",
   "metadata": {
    "nbpresent": {
     "id": "b384caa9-3a0e-4d69-a827-4b52bdcae5fb"
    },
    "slideshow": {
     "slide_type": "slide"
    }
   },
   "source": [
    "May want to set up software ahead of time as image, then can have students load.\n",
    "![](images2.png)"
   ]
  },
  {
   "cell_type": "markdown",
   "metadata": {
    "nbpresent": {
     "id": "e373c29d-4edc-47ec-b97a-50b7875c408f"
    },
    "slideshow": {
     "slide_type": "slide"
    }
   },
   "source": [
    "![](Ubuntu1404.png)"
   ]
  },
  {
   "cell_type": "markdown",
   "metadata": {
    "nbpresent": {
     "id": "bdcf3342-8bf6-48d6-9b6a-d6966db6d014"
    },
    "slideshow": {
     "slide_type": "slide"
    }
   },
   "source": [
    "![](m1medium.png)"
   ]
  },
  {
   "cell_type": "markdown",
   "metadata": {
    "nbpresent": {
     "id": "8c22bfb7-78d9-4559-bb88-a7ccb76f7880"
    },
    "slideshow": {
     "slide_type": "slide"
    }
   },
   "source": [
    "![](building_instance.png)"
   ]
  },
  {
   "cell_type": "markdown",
   "metadata": {
    "nbpresent": {
     "id": "57a96623-82dc-4736-ba2e-689270c4c2a7"
    },
    "slideshow": {
     "slide_type": "slide"
    }
   },
   "source": [
    "![](email.png)"
   ]
  },
  {
   "cell_type": "markdown",
   "metadata": {
    "nbpresent": {
     "id": "17b553d3-d8b1-45af-918e-00602c14c5dd"
    },
    "slideshow": {
     "slide_type": "slide"
    }
   },
   "source": [
    "![](instance_launched.png)"
   ]
  },
  {
   "cell_type": "markdown",
   "metadata": {
    "nbpresent": {
     "id": "bca8e0f6-12d7-4a4f-8d19-9a74fd3faa63"
    },
    "slideshow": {
     "slide_type": "slide"
    }
   },
   "source": [
    "# Use the terminal\n",
    "![](terminal.png)"
   ]
  },
  {
   "cell_type": "markdown",
   "metadata": {
    "nbpresent": {
     "id": "cdaaa439-0076-44e7-8b0d-6b58105f112f"
    },
    "slideshow": {
     "slide_type": "slide"
    }
   },
   "source": [
    "# Or the web shell\n",
    "![](web_shell.png)"
   ]
  },
  {
   "cell_type": "markdown",
   "metadata": {
    "nbpresent": {
     "id": "95693f8e-779a-4db9-85de-a42c8ae28d62"
    },
    "slideshow": {
     "slide_type": "slide"
    }
   },
   "source": [
    "# eel-pond tutorial:\n",
    "\n",
    "http://eel-pond.readthedocs.io/en/latest/0-install-aws.html\n",
    "   \n",
    "### Notes:\n",
    "\n",
    "* Before doing anything, run:\n",
    "```\n",
    "sudo add-apt-repository ppa:openjdk-r/ppa\n",
    "sudo apt-get update\n",
    "sudo apt-get install openjdk-8-jre\n",
    "```\n",
    "(https://github.com/dib-lab/eel-pond/issues/18)\n",
    "\n",
    "* In tutorial, don't forget to modify path names, e.g. `/home/ljcohen/`\n",
    "* instead of `/mnt/`, use `/`\n",
    "* Use `df -h` to monitor disk usage:\n",
    "\n",
    "![](disk.png)\n",
    "\n"
   ]
  },
  {
   "cell_type": "markdown",
   "metadata": {
    "nbpresent": {
     "id": "48efc447-0104-40ec-9655-edc73bf89e5b"
    },
    "slideshow": {
     "slide_type": "slide"
    }
   },
   "source": [
    "# Another quick tutorial, if interested:\n",
    "\n",
    "http://angus.readthedocs.io/en/2016/running-command-line-blast.html\n"
   ]
  },
  {
   "cell_type": "markdown",
   "metadata": {
    "slideshow": {
     "slide_type": "slide"
    }
   },
   "source": [
    "# References\n",
    "\n",
    "If you're interested in applying for your own start-up allocation on Jetstream/XSEDE, here are the allocation request steps: https://www.xsede.org/group/xup/allocation-request-steps\n",
    "\n",
    "HPC resources available on XSEDE: https://www.xsede.org/high-performance-computing\n",
    "\n",
    "Jetstream info: http://jetstream-cloud.org/\n",
    "\n",
    "Example of a successful request: http://ivory.idyll.org/blog/2017-dibsi-xsede-request.html"
   ]
  },
  {
   "cell_type": "code",
   "execution_count": null,
   "metadata": {
    "collapsed": true
   },
   "outputs": [],
   "source": []
  }
 ],
 "metadata": {
  "anaconda-cloud": {},
  "celltoolbar": "Slideshow",
  "kernelspec": {
   "display_name": "Python [conda root]",
   "language": "python",
   "name": "conda-root-py"
  },
  "language_info": {
   "codemirror_mode": {
    "name": "ipython",
    "version": 3
   },
   "file_extension": ".py",
   "mimetype": "text/x-python",
   "name": "python",
   "nbconvert_exporter": "python",
   "pygments_lexer": "ipython3",
   "version": "3.5.2"
  },
  "nbpresent": {
   "slides": {
    "05ee5b3b-2c55-4945-8c55-af4242715e3e": {
     "id": "05ee5b3b-2c55-4945-8c55-af4242715e3e",
     "prev": "c0781c05-f292-42cb-9e27-da54b9557b34",
     "regions": {
      "dcd62303-8849-42fc-b144-1bab6d98f55e": {
       "attrs": {
        "height": 0.8,
        "width": 0.8,
        "x": 0.1,
        "y": 0.1
       },
       "content": {
        "cell": "95693f8e-779a-4db9-85de-a42c8ae28d62",
        "part": "whole"
       },
       "id": "dcd62303-8849-42fc-b144-1bab6d98f55e"
      }
     }
    },
    "06b18773-8562-4a19-99a2-f6ff1f5ff183": {
     "id": "06b18773-8562-4a19-99a2-f6ff1f5ff183",
     "prev": "fcda6a6c-7749-4992-a336-f9ebc574dbf8",
     "regions": {
      "fe82a783-edf4-459e-8950-b260bbd2619f": {
       "attrs": {
        "height": 0.8,
        "width": 0.8,
        "x": 0.1,
        "y": 0.1
       },
       "content": {
        "cell": "aba77c06-dbf1-4486-98fc-24c865a1a5e6",
        "part": "whole"
       },
       "id": "fe82a783-edf4-459e-8950-b260bbd2619f"
      }
     }
    },
    "0b476dbb-5c24-4738-b9b8-ba1807d21ee8": {
     "id": "0b476dbb-5c24-4738-b9b8-ba1807d21ee8",
     "prev": "06b18773-8562-4a19-99a2-f6ff1f5ff183",
     "regions": {
      "acbb2891-792c-4e0b-9afd-12fa2ee4dbc4": {
       "attrs": {
        "height": 0.8,
        "width": 0.8,
        "x": 0.1,
        "y": 0.1
       },
       "content": {
        "cell": "8706c599-e18b-4837-8a86-46a45cb80578",
        "part": "whole"
       },
       "id": "acbb2891-792c-4e0b-9afd-12fa2ee4dbc4"
      }
     }
    },
    "0e9acffc-191a-4b14-8e34-47cb4f1ca7c3": {
     "id": "0e9acffc-191a-4b14-8e34-47cb4f1ca7c3",
     "prev": "20e4c1f1-e59c-4f6a-b6c4-ab795b227122",
     "regions": {
      "698c9a73-8ef7-4725-99ab-ff9e1de58826": {
       "attrs": {
        "height": 0.8,
        "width": 0.8,
        "x": 0.1,
        "y": 0.1
       },
       "content": {
        "cell": "48efc447-0104-40ec-9655-edc73bf89e5b",
        "part": "whole"
       },
       "id": "698c9a73-8ef7-4725-99ab-ff9e1de58826"
      }
     }
    },
    "1a8d2d17-f08b-4b9d-ae6b-9e0b1bc093a1": {
     "id": "1a8d2d17-f08b-4b9d-ae6b-9e0b1bc093a1",
     "prev": "28d50092-c39c-4b21-8698-a1999f55162a",
     "regions": {
      "761305a3-d0eb-4d6f-ba98-1edda5188456": {
       "attrs": {
        "height": 0.8,
        "width": 0.8,
        "x": 0.1,
        "y": 0.1
       },
       "content": {
        "cell": "17b553d3-d8b1-45af-918e-00602c14c5dd",
        "part": "whole"
       },
       "id": "761305a3-d0eb-4d6f-ba98-1edda5188456"
      }
     }
    },
    "20e4c1f1-e59c-4f6a-b6c4-ab795b227122": {
     "id": "20e4c1f1-e59c-4f6a-b6c4-ab795b227122",
     "prev": "05ee5b3b-2c55-4945-8c55-af4242715e3e",
     "regions": {
      "7e67b60a-d0ef-4fe4-96c2-922713e0ea6b": {
       "attrs": {
        "height": 0.8,
        "width": 0.8,
        "x": 0.1,
        "y": 0.1
       },
       "content": {
        "cell": "986f8b2f-57a8-45d2-b8b3-f922e2f16345",
        "part": "whole"
       },
       "id": "7e67b60a-d0ef-4fe4-96c2-922713e0ea6b"
      }
     }
    },
    "289e5cae-c3d9-4ca8-92b6-7af5d89139c7": {
     "id": "289e5cae-c3d9-4ca8-92b6-7af5d89139c7",
     "prev": "1a8d2d17-f08b-4b9d-ae6b-9e0b1bc093a1",
     "regions": {
      "a375d47f-2491-4ad6-8e0d-221537f083a0": {
       "attrs": {
        "height": 0.8,
        "width": 0.8,
        "x": 0.1,
        "y": 0.1
       },
       "content": {
        "cell": "bca8e0f6-12d7-4a4f-8d19-9a74fd3faa63",
        "part": "whole"
       },
       "id": "a375d47f-2491-4ad6-8e0d-221537f083a0"
      }
     }
    },
    "28d50092-c39c-4b21-8698-a1999f55162a": {
     "id": "28d50092-c39c-4b21-8698-a1999f55162a",
     "prev": "5f4372a8-bb8e-4b24-a6e3-7dd8b4dde602",
     "regions": {
      "6fd4c758-8772-4108-9de5-c35ebdc6853b": {
       "attrs": {
        "height": 0.8,
        "width": 0.8,
        "x": 0.1,
        "y": 0.1
       },
       "content": {
        "cell": "57a96623-82dc-4736-ba2e-689270c4c2a7",
        "part": "whole"
       },
       "id": "6fd4c758-8772-4108-9de5-c35ebdc6853b"
      }
     }
    },
    "43e16cfe-d416-424b-a315-c2a37890bc60": {
     "id": "43e16cfe-d416-424b-a315-c2a37890bc60",
     "prev": "bd456d73-18c4-4802-be49-df42d09e17aa",
     "regions": {
      "ffbb29e0-6483-48bf-bfb1-28fc56d371ac": {
       "attrs": {
        "height": 0.8,
        "width": 0.8,
        "x": 0.1,
        "y": 0.1
       },
       "content": {
        "cell": "bdcf3342-8bf6-48d6-9b6a-d6966db6d014",
        "part": "whole"
       },
       "id": "ffbb29e0-6483-48bf-bfb1-28fc56d371ac"
      }
     }
    },
    "5f4372a8-bb8e-4b24-a6e3-7dd8b4dde602": {
     "id": "5f4372a8-bb8e-4b24-a6e3-7dd8b4dde602",
     "prev": "43e16cfe-d416-424b-a315-c2a37890bc60",
     "regions": {
      "ce4d9406-0027-424e-86bc-7b68f758557b": {
       "attrs": {
        "height": 0.8,
        "width": 0.8,
        "x": 0.1,
        "y": 0.1
       },
       "content": {
        "cell": "8c22bfb7-78d9-4559-bb88-a7ccb76f7880",
        "part": "whole"
       },
       "id": "ce4d9406-0027-424e-86bc-7b68f758557b"
      }
     }
    },
    "8ebdc0e1-52af-46d2-8151-ade7ef460162": {
     "id": "8ebdc0e1-52af-46d2-8151-ade7ef460162",
     "prev": "f5c29b8b-5a23-42ac-843d-f996d6f607c9",
     "regions": {
      "df748895-c274-4be7-bab1-944c14a943b5": {
       "attrs": {
        "height": 0.8,
        "width": 0.8,
        "x": 0.1,
        "y": 0.1
       },
       "content": {
        "cell": "afcade05-8011-415c-ac63-25223da7c64a",
        "part": "whole"
       },
       "id": "df748895-c274-4be7-bab1-944c14a943b5"
      }
     }
    },
    "bd456d73-18c4-4802-be49-df42d09e17aa": {
     "id": "bd456d73-18c4-4802-be49-df42d09e17aa",
     "prev": "e31f0d88-04d5-4f8b-b0b5-5a9f57956626",
     "regions": {
      "f078adf6-cd1e-4abc-bb20-c648851e2a2a": {
       "attrs": {
        "height": 0.8,
        "width": 0.8,
        "x": 0.1,
        "y": 0.1
       },
       "content": {
        "cell": "e373c29d-4edc-47ec-b97a-50b7875c408f",
        "part": "whole"
       },
       "id": "f078adf6-cd1e-4abc-bb20-c648851e2a2a"
      }
     }
    },
    "c0781c05-f292-42cb-9e27-da54b9557b34": {
     "id": "c0781c05-f292-42cb-9e27-da54b9557b34",
     "prev": "289e5cae-c3d9-4ca8-92b6-7af5d89139c7",
     "regions": {
      "c13fe700-d389-40c8-ad89-25fa3fd33686": {
       "attrs": {
        "height": 0.8,
        "width": 0.8,
        "x": 0.1,
        "y": 0.1
       },
       "content": {
        "cell": "cdaaa439-0076-44e7-8b0d-6b58105f112f",
        "part": "whole"
       },
       "id": "c13fe700-d389-40c8-ad89-25fa3fd33686"
      }
     }
    },
    "e31f0d88-04d5-4f8b-b0b5-5a9f57956626": {
     "id": "e31f0d88-04d5-4f8b-b0b5-5a9f57956626",
     "prev": "fb548c4c-5bf2-4760-ae60-571dabacbace",
     "regions": {
      "6d19a4f5-2067-4134-9f07-7412bf4f53fe": {
       "attrs": {
        "height": 0.8,
        "width": 0.8,
        "x": 0.1,
        "y": 0.1
       },
       "content": {
        "cell": "b384caa9-3a0e-4d69-a827-4b52bdcae5fb",
        "part": "whole"
       },
       "id": "6d19a4f5-2067-4134-9f07-7412bf4f53fe"
      }
     }
    },
    "f5c29b8b-5a23-42ac-843d-f996d6f607c9": {
     "id": "f5c29b8b-5a23-42ac-843d-f996d6f607c9",
     "prev": "0b476dbb-5c24-4738-b9b8-ba1807d21ee8",
     "regions": {
      "87733771-0879-4d42-8c88-40945fea30c4": {
       "attrs": {
        "height": 0.8,
        "width": 0.8,
        "x": 0.1,
        "y": 0.1
       },
       "content": {
        "cell": "6fe8625a-3fd8-4d2a-9221-1774278f8f36",
        "part": "whole"
       },
       "id": "87733771-0879-4d42-8c88-40945fea30c4"
      }
     }
    },
    "fb548c4c-5bf2-4760-ae60-571dabacbace": {
     "id": "fb548c4c-5bf2-4760-ae60-571dabacbace",
     "prev": "8ebdc0e1-52af-46d2-8151-ade7ef460162",
     "regions": {
      "aeed6ffd-4f3c-4ee5-a02a-b7eb8bf827ce": {
       "attrs": {
        "height": 0.8,
        "width": 0.8,
        "x": 0.1,
        "y": 0.1
       },
       "content": {
        "cell": "3f6088f3-3691-41c6-b2c6-e784e55e2136",
        "part": "whole"
       },
       "id": "aeed6ffd-4f3c-4ee5-a02a-b7eb8bf827ce"
      }
     }
    },
    "fcda6a6c-7749-4992-a336-f9ebc574dbf8": {
     "id": "fcda6a6c-7749-4992-a336-f9ebc574dbf8",
     "prev": null,
     "regions": {
      "f1b12ac9-9ecc-4232-a967-b3eb37189d19": {
       "attrs": {
        "height": 0.8,
        "width": 0.8,
        "x": 0.1,
        "y": 0.1
       },
       "content": {
        "cell": "9dc95344-5b87-4396-8578-6f2d8c038f4a",
        "part": "whole"
       },
       "id": "f1b12ac9-9ecc-4232-a967-b3eb37189d19"
      }
     }
    }
   },
   "themes": {}
  }
 },
 "nbformat": 4,
 "nbformat_minor": 1
}
